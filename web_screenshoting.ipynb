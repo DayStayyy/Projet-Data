{
 "cells": [
  {
   "cell_type": "code",
   "execution_count": null,
   "metadata": {},
   "outputs": [],
   "source": [
    "import pyautogui\n",
    "# pyautogui.mouseInfo()"
   ]
  },
  {
   "cell_type": "code",
   "execution_count": null,
   "metadata": {},
   "outputs": [],
   "source": [
    "# x, y, width, height = 86, 135, 560, 560\n",
    "x, y, width, height = 146, 202, 488, 488\n",
    "screenshot = pyautogui.screenshot(region=(x, y, width, height))\n",
    "screenshot.save(\"squares/chess_board.png\")"
   ]
  },
  {
   "cell_type": "code",
   "execution_count": null,
   "metadata": {},
   "outputs": [],
   "source": [
    "import cv2\n",
    "import numpy as np\n",
    "img = cv2.imread(\"squares/chess_board.png\")\n",
    "hsv = cv2.cvtColor(img, cv2.COLOR_BGR2HSV)\n",
    "lower_gray = np.array([0,0,133])\n",
    "upper_gray = np.array([255,133,255])\n",
    "mask = cv2.inRange(hsv, lower_gray, upper_gray)\n",
    "cv2.imwrite(\"squares/chess_board.png\", mask)\n"
   ]
  },
  {
   "cell_type": "code",
   "execution_count": null,
   "metadata": {},
   "outputs": [],
   "source": [
    "from PIL import Image\n",
    "img = Image.open(\"squares/chess_board.png\")\n",
    "width, height = img.size\n",
    "square_size = min(width, height) // 8\n",
    "for row in range(8):\n",
    "    for col in range(8):\n",
    "        left = col * square_size\n",
    "        right = left + square_size\n",
    "        upper = row * square_size\n",
    "        lower = upper + square_size\n",
    "        square = img.crop((left, upper, right, lower))\n",
    "        square.save(\"squares/square_{}_{}.png\".format(row, col))"
   ]
  }
 ],
 "metadata": {
  "kernelspec": {
   "display_name": "Python 3",
   "language": "python",
   "name": "python3"
  },
  "language_info": {
   "codemirror_mode": {
    "name": "ipython",
    "version": 3
   },
   "file_extension": ".py",
   "mimetype": "text/x-python",
   "name": "python",
   "nbconvert_exporter": "python",
   "pygments_lexer": "ipython3",
   "version": "3.9.12"
  },
  "orig_nbformat": 4,
  "vscode": {
   "interpreter": {
    "hash": "9947ca907420648ee86069b82481bb3b22959ed6846e34f2e80323e30cb447a6"
   }
  }
 },
 "nbformat": 4,
 "nbformat_minor": 2
}
