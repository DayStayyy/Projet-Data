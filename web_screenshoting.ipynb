{
 "cells": [
  {
   "cell_type": "code",
   "execution_count": null,
   "metadata": {},
   "outputs": [],
   "source": [
    "import pyautogui\n",
    "# pyautogui.mouseInfo()"
   ]
  },
  {
   "cell_type": "code",
   "execution_count": null,
   "metadata": {},
   "outputs": [],
   "source": [
    "x, y, width, height = 86, 135, 560, 560\n",
    "# x, y, width, height = 146, 202, 488, 488\n",
    "screenshot = pyautogui.screenshot(region=(x, y, width, height))\n",
    "# screenshot.save(\"squares/chess_board.png\")\n",
    "screenshot.save(\"chess_board.png\")"
   ]
  },
  {
   "cell_type": "code",
   "execution_count": null,
   "metadata": {},
   "outputs": [],
   "source": [
    "# import cv2\n",
    "# import numpy as np\n",
    "# # img = cv2.imread(\"squares/chess_board.png\")\n",
    "# img = cv2.imread(\"chess_board.png\")\n",
    "# hsv = cv2.cvtColor(img, cv2.COLOR_BGR2HSV)\n",
    "# lower_gray = np.array([0,0,133])\n",
    "# upper_gray = np.array([255,133,255])\n",
    "# mask = cv2.inRange(hsv, lower_gray, upper_gray)\n",
    "# # cv2.imwrite(\"squares/chess_board.png\", mask)\n",
    "# cv2.imwrite(\"chess_board.png\", mask)"
   ]
  },
  {
   "cell_type": "code",
   "execution_count": null,
   "metadata": {},
   "outputs": [],
   "source": [
    "# from PIL import Image\n",
    "# img = Image.open(\"squares/chess_board.png\")\n",
    "# width, height = img.size\n",
    "# square_size = min(width, height) // 8\n",
    "# for row in range(8):\n",
    "#     for col in range(8):\n",
    "#         left = col * square_size\n",
    "#         right = left + square_size\n",
    "#         upper = row * square_size\n",
    "#         lower = upper + square_size\n",
    "#         square = img.crop((left, upper, right, lower))\n",
    "#         square.save(\"squares/square_{}_{}.png\".format(row, col))"
   ]
  },
  {
   "cell_type": "code",
   "execution_count": null,
   "metadata": {},
   "outputs": [],
   "source": [
    "import json\n",
    "import requests\n",
    "url = \"https://web-vrnocjtpaa-an.a.run.app/board_to_fen\"\n",
    "# files = {'image': open('squares/chess_board.png', 'rb')}\n",
    "files = {'image': open('chess_board.png', 'rb')}\n",
    "response = requests.post(url, files=files)"
   ]
  },
  {
   "cell_type": "code",
   "execution_count": null,
   "metadata": {},
   "outputs": [],
   "source": [
    "import chess\n",
    "data = json.loads(response.text)\n",
    "board = chess.Board(data['fen'])\n",
    "board"
   ]
  }
 ],
 "metadata": {
  "kernelspec": {
   "display_name": "Projet_Data",
   "language": "python",
   "name": "python3"
  },
  "language_info": {
   "codemirror_mode": {
    "name": "ipython",
    "version": 3
   },
   "file_extension": ".py",
   "mimetype": "text/x-python",
   "name": "python",
   "nbconvert_exporter": "python",
   "pygments_lexer": "ipython3",
   "version": "3.10.9"
  },
  "orig_nbformat": 4,
  "vscode": {
   "interpreter": {
    "hash": "3027c5652effdff8a55782130434a896f334c0db12be8eada4261ffb36eaefc5"
   }
  }
 },
 "nbformat": 4,
 "nbformat_minor": 2
}
