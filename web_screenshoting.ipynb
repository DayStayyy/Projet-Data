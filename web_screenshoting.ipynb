{
 "cells": [
  {
   "cell_type": "code",
   "execution_count": null,
   "metadata": {},
   "outputs": [],
   "source": [
    "import pyautogui\n",
    "# pyautogui.mouseInfo()"
   ]
  },
  {
   "cell_type": "code",
   "execution_count": null,
   "metadata": {},
   "outputs": [],
   "source": [
    "x, y, width, height = 86, 135, 560, 560\n",
    "# x, y, width, height = 146, 202, 488, 488\n",
    "screenshot = pyautogui.screenshot(region=(x, y, width, height))\n",
    "# screenshot.save(\"squares/chess_board.png\")\n",
    "screenshot.save(\"chess_board.png\")"
   ]
  },
  {
   "cell_type": "code",
   "execution_count": null,
   "metadata": {},
   "outputs": [],
   "source": [
    "coordinates = {\n",
    "    \"a\": 121, \"b\": 191, \"c\": 261, \"d\": 331, \n",
    "    \"e\": 401, \"f\": 471, \"g\": 541, \"h\": 611,\n",
    "    \"8\": 170, \"7\": 240, \"6\": 310, \"5\": 380, \n",
    "    \"4\": 450, \"3\": 520, \"2\": 590, \"1\": 660,\n",
    "}\n",
    "\n",
    "# coordinates = {\n",
    "#     \"a\": 176.5, \"b\": 237.5, \"c\": 298.5, \"d\": 359.5, \n",
    "# \"e\": 420.5, \"f\": 481.5, \"g\": 542.5, \"h\": 603.5,\n",
    "#     \"8\": 232.5, \"7\": 293.5, \"6\": 354.5, \"5\": 415.5, \n",
    "# \"4\": 476.5, \"3\": 537.5, \"2\": 598.5, \"1\": 659.5,\n",
    "# }\n"
   ]
  },
  {
   "cell_type": "code",
   "execution_count": null,
   "metadata": {},
   "outputs": [],
   "source": [
    "import json\n",
    "import requests\n",
    "url = \"https://web-vrnocjtpaa-an.a.run.app/board_to_fen\"\n",
    "# files = {'image': open('squares/chess_board.png', 'rb')}\n",
    "files = {'image': open('chess_board.png', 'rb')}\n",
    "response = requests.post(url, files=files)"
   ]
  },
  {
   "cell_type": "code",
   "execution_count": null,
   "metadata": {},
   "outputs": [],
   "source": [
    "import chess\n",
    "data = json.loads(response.text)\n",
    "board = chess.Board(data['fen'])\n",
    "# board = chess.Board(data['fen'] + \" b - - 0 1\")"
   ]
  },
  {
   "cell_type": "code",
   "execution_count": null,
   "metadata": {},
   "outputs": [],
   "source": [
    "import chess.engine\n",
    "engine = chess.engine.SimpleEngine.popen_uci(\"stockfish_15.1_win_x64_avx2/stockfish-windows-2022-x86-64-avx2.exe\")\n",
    "result = engine.play(board, chess.engine.Limit(time=2.0))\n",
    "best_move = result.move\n",
    "engine.quit()"
   ]
  },
  {
   "cell_type": "code",
   "execution_count": null,
   "metadata": {},
   "outputs": [],
   "source": [
    "pyautogui.click(coordinates[best_move.uci()[0]], coordinates[best_move.uci()[1]], button='left')\n",
    "pyautogui.click(coordinates[best_move.uci()[2]], coordinates[best_move.uci()[3]], button='left')\n",
    "\n",
    "if best_move.uci()[-2:] == '8q':\n",
    "    pyautogui.click(coordinates[best_move.uci()[2]], coordinates['8'], button='left')\n",
    "elif best_move.uci()[-2:] == '8n':\n",
    "    pyautogui.click(coordinates[best_move.uci()[2]], coordinates['7'], button='left')\n",
    "elif best_move.uci()[-2:] == '8r':\n",
    "    pyautogui.click(coordinates[best_move.uci()[2]], coordinates['6'], button='left')\n",
    "elif best_move.uci()[-2:] == '8b':\n",
    "    pyautogui.click(coordinates[best_move.uci()[2]], coordinates['5'], button='left')\n",
    "\n",
    "if best_move.uci()[-2:] == '1q':\n",
    "    pyautogui.click(coordinates[best_move.uci()[2]], coordinates['1'], button='left')\n",
    "elif best_move.uci()[-2:] == '1n':\n",
    "    pyautogui.click(coordinates[best_move.uci()[2]], coordinates['2'], button='left')\n",
    "elif best_move.uci()[-2:] == '1r':\n",
    "    pyautogui.click(coordinates[best_move.uci()[2]], coordinates['3'], button='left')\n",
    "elif best_move.uci()[-2:] == '1b':\n",
    "    pyautogui.click(coordinates[best_move.uci()[2]], coordinates['4'], button='left')"
   ]
  }
 ],
 "metadata": {
  "kernelspec": {
   "display_name": "Projet_Data",
   "language": "python",
   "name": "python3"
  },
  "language_info": {
   "codemirror_mode": {
    "name": "ipython",
    "version": 3
   },
   "file_extension": ".py",
   "mimetype": "text/x-python",
   "name": "python",
   "nbconvert_exporter": "python",
   "pygments_lexer": "ipython3",
   "version": "3.10.9"
  },
  "orig_nbformat": 4,
  "vscode": {
   "interpreter": {
    "hash": "3027c5652effdff8a55782130434a896f334c0db12be8eada4261ffb36eaefc5"
   }
  }
 },
 "nbformat": 4,
 "nbformat_minor": 2
}
