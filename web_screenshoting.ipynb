{
 "cells": [
  {
   "cell_type": "code",
   "execution_count": 1,
   "metadata": {},
   "outputs": [],
   "source": [
    "import pyautogui\n",
    "# pyautogui.mouseInfo()"
   ]
  },
  {
   "cell_type": "code",
   "execution_count": 2,
   "metadata": {},
   "outputs": [],
   "source": [
    "x, y, width, height = 86, 135, 560, 560\n",
    "screenshot = pyautogui.screenshot(region=(x, y, width, height))\n",
    "screenshot.save(\"squares/chess_board.png\")"
   ]
  },
  {
   "cell_type": "code",
   "execution_count": 3,
   "metadata": {},
   "outputs": [],
   "source": [
    "from PIL import Image\n",
    "img = Image.open(\"squares/chess_board.png\")\n",
    "width, height = img.size\n",
    "square_size = min(width, height) // 8\n",
    "for row in range(8):\n",
    "    for col in range(8):\n",
    "        left = col * square_size\n",
    "        right = left + square_size\n",
    "        upper = row * square_size\n",
    "        lower = upper + square_size\n",
    "        square = img.crop((left, upper, right, lower))\n",
    "        square.save(\"squares/square_{}_{}.png\".format(row, col))"
   ]
  }
 ],
 "metadata": {
  "kernelspec": {
   "display_name": "Projet_Data",
   "language": "python",
   "name": "python3"
  },
  "language_info": {
   "codemirror_mode": {
    "name": "ipython",
    "version": 3
   },
   "file_extension": ".py",
   "mimetype": "text/x-python",
   "name": "python",
   "nbconvert_exporter": "python",
   "pygments_lexer": "ipython3",
   "version": "3.10.9"
  },
  "orig_nbformat": 4,
  "vscode": {
   "interpreter": {
    "hash": "3027c5652effdff8a55782130434a896f334c0db12be8eada4261ffb36eaefc5"
   }
  }
 },
 "nbformat": 4,
 "nbformat_minor": 2
}
