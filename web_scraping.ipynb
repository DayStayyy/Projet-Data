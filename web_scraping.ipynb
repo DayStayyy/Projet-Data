{
 "cells": [
  {
   "cell_type": "code",
   "execution_count": null,
   "metadata": {},
   "outputs": [],
   "source": [
    "import requests\n",
    "response = requests.get(\"https://httpbin.org/user-agent\")\n",
    "response.json()"
   ]
  },
  {
   "cell_type": "code",
   "execution_count": null,
   "metadata": {},
   "outputs": [],
   "source": [
    "response = requests.get(\"https://httpbin.org/headers\")\n",
    "response.json()"
   ]
  },
  {
   "cell_type": "code",
   "execution_count": null,
   "metadata": {},
   "outputs": [],
   "source": [
    "import yaml\n",
    "with open(\"headers.yml\") as f_headers:\n",
    "    browser_headers = yaml.safe_load(f_headers)\n",
    "browser_headers[\"Firefox\"]"
   ]
  },
  {
   "cell_type": "code",
   "execution_count": null,
   "metadata": {},
   "outputs": [],
   "source": [
    "response = requests.get(\"https://httpbin.org/headers\", headers=browser_headers[\"Firefox\"])\n",
    "response.json()"
   ]
  },
  {
   "cell_type": "code",
   "execution_count": null,
   "metadata": {},
   "outputs": [],
   "source": [
    "response = requests.get(\"https://free-proxy-list.net/\")"
   ]
  },
  {
   "cell_type": "code",
   "execution_count": null,
   "metadata": {},
   "outputs": [],
   "source": [
    "import pandas as pd\n",
    "proxy_list = pd.read_html(response.text)[0]\n",
    "proxy_list[\"url\"] = \"http://\" + proxy_list[\"IP Address\"] + \":\" + proxy_list[\"Port\"].astype(str)\n",
    "proxy_list.head()"
   ]
  },
  {
   "cell_type": "code",
   "execution_count": null,
   "metadata": {},
   "outputs": [],
   "source": [
    "https_proxies = proxy_list[proxy_list[\"Https\"] == \"yes\"]\n",
    "https_proxies.count()"
   ]
  },
  {
   "cell_type": "code",
   "execution_count": null,
   "metadata": {},
   "outputs": [],
   "source": [
    "url = \"https://httpbin.org/ip\"\n",
    "good_proxies = set()\n",
    "headers = browser_headers[\"Chrome\"]\n",
    "for proxy_url in https_proxies[\"url\"]:\n",
    "    proxies = {\n",
    "        \"http\": proxy_url,\n",
    "        \"https\": proxy_url,\n",
    "    }\n",
    "    \n",
    "    try:\n",
    "        response = requests.get(url, headers=headers, proxies=proxies, timeout=2)\n",
    "        good_proxies.add(proxy_url)\n",
    "        print(f\"Proxy {proxy_url} OK, added to good_proxy list\")\n",
    "    except Exception:\n",
    "        pass\n",
    "    \n",
    "    if len(good_proxies) >= 3:\n",
    "        break"
   ]
  },
  {
   "cell_type": "code",
   "execution_count": null,
   "metadata": {},
   "outputs": [],
   "source": [
    "browser_headers"
   ]
  },
  {
   "cell_type": "code",
   "execution_count": null,
   "metadata": {},
   "outputs": [],
   "source": [
    "url = \"https://www.chess.com/game/live/70058526487\"\n",
    "for browser, headers in browser_headers.items():\n",
    "    print(f\"\\n\\nUsing {browser} headers\\n\")\n",
    "    for proxy_url in good_proxies:\n",
    "        proxies = proxies = {\n",
    "            \"http\": proxy_url,\n",
    "            \"https\": proxy_url,\n",
    "        }\n",
    "        try:\n",
    "            response = requests.get(url, headers=headers, proxies=proxies)\n",
    "            html_content = response.text\n",
    "            print(html_content)\n",
    "        except Exception:\n",
    "            print(f\"Proxy {proxy_url} failed, trying another one\")"
   ]
  }
 ],
 "metadata": {
  "kernelspec": {
   "display_name": "Projet_Data",
   "language": "python",
   "name": "python3"
  },
  "language_info": {
   "codemirror_mode": {
    "name": "ipython",
    "version": 3
   },
   "file_extension": ".py",
   "mimetype": "text/x-python",
   "name": "python",
   "nbconvert_exporter": "python",
   "pygments_lexer": "ipython3",
   "version": "3.10.9"
  },
  "orig_nbformat": 4,
  "vscode": {
   "interpreter": {
    "hash": "3027c5652effdff8a55782130434a896f334c0db12be8eada4261ffb36eaefc5"
   }
  }
 },
 "nbformat": 4,
 "nbformat_minor": 2
}
